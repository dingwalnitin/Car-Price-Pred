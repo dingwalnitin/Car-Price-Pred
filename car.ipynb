{
 "cells": [
  {
   "cell_type": "code",
   "execution_count": 87,
   "metadata": {},
   "outputs": [],
   "source": [
    "import warnings\n",
    "warnings.filterwarnings('ignore')\n",
    "import pandas as pd\n",
    "import numpy as np\n",
    "import datetime\n",
    "import seaborn as sns\n",
    "from sklearn.model_selection import train_test_split\n",
    "from sklearn.linear_model import LinearRegression, ElasticNet\n",
    "from sklearn.ensemble import RandomForestRegressor\n",
    "from sklearn.ensemble import GradientBoostingRegressor\n",
    "from xgboost import XGBRegressor\n",
    "from sklearn.neighbors import KNeighborsRegressor\n",
    "from sklearn.ensemble import AdaBoostRegressor\n",
    "from sklearn.ensemble import IsolationForest\n",
    "from sklearn.tree import DecisionTreeRegressor\n",
    "from sklearn.model_selection import cross_val_score\n",
    "from sklearn import metrics\n",
    "import joblib\n",
    "import time"
   ]
  },
  {
   "cell_type": "markdown",
   "metadata": {},
   "source": [
    "# 1. Load the dataset"
   ]
  },
  {
   "cell_type": "code",
   "execution_count": 88,
   "metadata": {},
   "outputs": [
    {
     "name": "stdout",
     "output_type": "stream",
     "text": [
      "  Car_Name  Year  Selling_Price  Present_Price  Driven_kms Fuel_Type  \\\n",
      "0     ritz  2014           3.35           5.59       27000    Petrol   \n",
      "1      sx4  2013           4.75           9.54       43000    Diesel   \n",
      "2     ciaz  2017           7.25           9.85        6900    Petrol   \n",
      "3  wagon r  2011           2.85           4.15        5200    Petrol   \n",
      "4    swift  2014           4.60           6.87       42450    Diesel   \n",
      "\n",
      "  Selling_type Transmission  Owner  \n",
      "0       Dealer       Manual      0  \n",
      "1       Dealer       Manual      0  \n",
      "2       Dealer       Manual      0  \n",
      "3       Dealer       Manual      0  \n",
      "4       Dealer       Manual      0  \n",
      "    Car_Name  Year  Selling_Price  Present_Price  Driven_kms Fuel_Type  \\\n",
      "296     city  2016           9.50           11.6       33988    Diesel   \n",
      "297     brio  2015           4.00            5.9       60000    Petrol   \n",
      "298     city  2009           3.35           11.0       87934    Petrol   \n",
      "299     city  2017          11.50           12.5        9000    Diesel   \n",
      "300     brio  2016           5.30            5.9        5464    Petrol   \n",
      "\n",
      "    Selling_type Transmission  Owner  \n",
      "296       Dealer       Manual      0  \n",
      "297       Dealer       Manual      0  \n",
      "298       Dealer       Manual      0  \n",
      "299       Dealer       Manual      0  \n",
      "300       Dealer       Manual      0  \n"
     ]
    }
   ],
   "source": [
    "data = pd.read_csv('car data.csv')\n",
    "\n",
    "# 2. Display Top 5 Rows of The Dataset\n",
    "\n",
    "print(data.head())\n",
    "# 3. Check Last 5 Rows of The Dataset\n",
    "\n",
    "print(data.tail())"
   ]
  },
  {
   "cell_type": "code",
   "execution_count": 89,
   "metadata": {},
   "outputs": [
    {
     "name": "stdout",
     "output_type": "stream",
     "text": [
      "\n",
      "Information about the Dataset:\n",
      "Number of Rows: 301\n",
      "Number of Columns: 9\n",
      "<class 'pandas.core.frame.DataFrame'>\n",
      "RangeIndex: 301 entries, 0 to 300\n",
      "Data columns (total 9 columns):\n",
      " #   Column         Non-Null Count  Dtype  \n",
      "---  ------         --------------  -----  \n",
      " 0   Car_Name       301 non-null    object \n",
      " 1   Year           301 non-null    int64  \n",
      " 2   Selling_Price  301 non-null    float64\n",
      " 3   Present_Price  301 non-null    float64\n",
      " 4   Driven_kms     301 non-null    int64  \n",
      " 5   Fuel_Type      301 non-null    object \n",
      " 6   Selling_type   301 non-null    object \n",
      " 7   Transmission   301 non-null    object \n",
      " 8   Owner          301 non-null    int64  \n",
      "dtypes: float64(2), int64(3), object(4)\n",
      "memory usage: 21.3+ KB\n"
     ]
    }
   ],
   "source": [
    "# 4. Get Information About Our Dataset\n",
    "data['Transmission'] = data['Transmission'].astype(str).str.strip()\n",
    "data['Fuel_Type'] = data['Fuel_Type'].astype(str).str.strip()\n",
    "data['Selling_type'] = data['Selling_type'].astype(str).str.strip()\n",
    "print(\"\\nInformation about the Dataset:\")\n",
    "print(\"Number of Rows:\", data.shape[0])\n",
    "print(\"Number of Columns:\", data.shape[1])\n",
    "data.info()"
   ]
  },
  {
   "cell_type": "code",
   "execution_count": 90,
   "metadata": {},
   "outputs": [
    {
     "name": "stdout",
     "output_type": "stream",
     "text": [
      "\n",
      "Null Values in the Dataset:\n",
      "Car_Name         0\n",
      "Year             0\n",
      "Selling_Price    0\n",
      "Present_Price    0\n",
      "Driven_kms       0\n",
      "Fuel_Type        0\n",
      "Selling_type     0\n",
      "Transmission     0\n",
      "Owner            0\n",
      "dtype: int64\n"
     ]
    }
   ],
   "source": [
    "# 5. Check Null Values In The Dataset\n",
    "print(\"\\nNull Values in the Dataset:\")\n",
    "print(data.isnull().sum())\n"
   ]
  },
  {
   "cell_type": "code",
   "execution_count": 91,
   "metadata": {},
   "outputs": [],
   "source": [
    "# 7. Data Preprocessing\n",
    "date_time = datetime.datetime.now()\n",
    "data['Age'] = date_time.year - data['Year']\n",
    "data.drop('Year', axis=1, inplace=True)\n",
    "#removes year column and replace it with age, age from present time"
   ]
  },
  {
   "cell_type": "code",
   "execution_count": 92,
   "metadata": {},
   "outputs": [
    {
     "data": {
      "image/png": "[encoded data removed]",
      "text/plain": [
       "<Figure size 640x480 with 1 Axes>"
      ]
     },
     "metadata": {},
     "output_type": "display_data"
    }
   ],
   "source": [
    "sns.boxplot(data['Selling_Price'])\n",
    "data = data[(data['Selling_Price'] >= 0.1) & (data['Selling_Price'] <= 33.0)]\n"
   ]
  },
  {
   "cell_type": "code",
   "execution_count": 93,
   "metadata": {},
   "outputs": [],
   "source": [
    "# Encoding the Categorical Columns\n",
    "data['Fuel_Type'] = data['Fuel_Type'].map({'Petrol': 0, 'Diesel': 1, 'CNG': 2})\n",
    "data['Selling_type'] = data['Selling_type'].map({'Dealer': 0, 'Individual': 1})\n",
    "data['Transmission'] = data['Transmission'].map({'Manual': 0, 'Automatic': 1})\n",
    "#machines understand numbers better, encoding each entry"
   ]
  },
  {
   "cell_type": "code",
   "execution_count": 94,
   "metadata": {},
   "outputs": [],
   "source": [
    "X = data.drop(['Car_Name', 'Selling_Price'], axis=1)\n",
    "y = data['Selling_Price']\n",
    "#islolating the feature to be predicted from the training set"
   ]
  },
  {
   "cell_type": "code",
   "execution_count": 95,
   "metadata": {},
   "outputs": [],
   "source": [
    "X_train, X_test, y_train, y_test = train_test_split(X, y, test_size=0.20, random_state=42)\n"
   ]
  },
  {
   "cell_type": "code",
   "execution_count": 101,
   "metadata": {},
   "outputs": [
    {
     "name": "stdout",
     "output_type": "stream",
     "text": [
      "1.4550142288208008\n"
     ]
    }
   ],
   "source": [
    "models = {\n",
    "    'Linear Regression': LinearRegression(),\n",
    "    'Random Forest Regressor': RandomForestRegressor(),\n",
    "    'Gradient Boosting Regressor': GradientBoostingRegressor(),\n",
    "    'XGBoost Regressor': XGBRegressor(),\n",
    "    'K-Nearest Neighbors Regressor' : KNeighborsRegressor(),\n",
    "    'ada_boost_reg' : AdaBoostRegressor(),\n",
    "    'iso_forest' : IsolationForest(),\n",
    "    'elasticnet_reg' : ElasticNet(),\n",
    "    'decision_tree_reg' : DecisionTreeRegressor()\n",
    "}\n",
    "\n",
    "st=time.time()\n",
    "results = {}\n",
    "for model_name, model in models.items():\n",
    "    model.fit(X_train, y_train)\n",
    "    y_pred = model.predict(X_test)\n",
    "    r2 = metrics.r2_score(y_test, y_pred)\n",
    "    mse = metrics.mean_squared_error(y_test, y_pred)\n",
    "    rmse = np.sqrt(mse)\n",
    "    if not model_name=='iso_forest':\n",
    "        cv_scores = cross_val_score(model, X, y, cv=5)\n",
    "        results[model_name] = {\n",
    "            'R2 Score': r2,\n",
    "            'MSE': mse,\n",
    "            'RMSE': rmse,\n",
    "            \n",
    "        }\n",
    "    results[model_name] = {\n",
    "        'R2 Score': r2,\n",
    "        'MSE': mse,\n",
    "        'RMSE': rmse,\n",
    "        'Cross-Validation Scores': cv_scores\n",
    "    }\n",
    "et=time.time()\n",
    "print(et-st)"
   ]
  },
  {
   "cell_type": "code",
   "execution_count": 97,
   "metadata": {},
   "outputs": [
    {
     "name": "stdout",
     "output_type": "stream",
     "text": [
      "Model: Linear Regression\n",
      "R2 Score: 0.814652611956298\n",
      "MSE: 4.137755616906876\n",
      "RMSE: 2.034147393112622\n",
      "Cross-Validation Scores: [  0.86272781   0.78932978 -71.92920091   0.50623182   0.86503827]\n",
      "\n",
      "Model: Random Forest Regressor\n",
      "R2 Score: 0.9474988745610488\n",
      "MSE: 1.1720522688333332\n",
      "RMSE: 1.0826136286013275\n",
      "Cross-Validation Scores: [ 0.96519604  0.79742772 -1.72135685  0.95245718  0.76798345]\n",
      "\n",
      "Model: Gradient Boosting Regressor\n",
      "R2 Score: 0.9731646176730725\n",
      "MSE: 0.5990818383095131\n",
      "RMSE: 0.7740037715085846\n",
      "Cross-Validation Scores: [ 0.9717903   0.86133602 -1.486207    0.95106276  0.78721341]\n",
      "\n",
      "Model: XGBoost Regressor\n",
      "R2 Score: 0.9487686978501387\n",
      "MSE: 1.1437043190598388\n",
      "RMSE: 1.0694411246346565\n",
      "Cross-Validation Scores: [ 0.95238843  0.7232379  -0.58602813  0.91951563  0.73807986]\n",
      "\n",
      "Model: K-Nearest Neighbors Regressor\n",
      "R2 Score: -0.015990632918880587\n",
      "MSE: 22.681306666666664\n",
      "RMSE: 4.762489545045392\n",
      "Cross-Validation Scores: [-9.63713097e-02 -1.30446801e-01 -8.36946649e+02 -1.57039467e-01\n",
      " -1.79498546e+00]\n",
      "\n",
      "Model: ada_boost_reg\n",
      "R2 Score: 0.9283584088482271\n",
      "MSE: 1.5993502758317795\n",
      "RMSE: 1.2646542119614277\n",
      "Cross-Validation Scores: [  0.94509016   0.75157674 -20.37020227   0.91292147   0.58894723]\n",
      "\n",
      "Model: iso_forest\n",
      "R2 Score: -0.9619360024591803\n",
      "MSE: 43.798899999999996\n",
      "RMSE: 6.618073737878719\n",
      "Cross-Validation Scores: [  0.94509016   0.75157674 -20.37020227   0.91292147   0.58894723]\n",
      "\n",
      "Model: elasticnet_reg\n",
      "R2 Score: 0.7901762162481142\n",
      "MSE: 4.684174667599371\n",
      "RMSE: 2.164295420592894\n",
      "Cross-Validation Scores: [  0.89139706   0.76687675 -47.37918497   0.52006047   0.81556461]\n",
      "\n",
      "Model: decision_tree_reg\n",
      "R2 Score: 0.9313623192087432\n",
      "MSE: 1.53229\n",
      "RMSE: 1.2378570192069842\n",
      "Cross-Validation Scores: [ 0.91993953  0.68038198 -2.46787479  0.89116139  0.67999215]\n",
      "\n"
     ]
    }
   ],
   "source": [
    "for model_name, result in results.items():\n",
    "    print(f\"Model: {model_name}\")\n",
    "    print(f\"R2 Score: {result['R2 Score']}\")\n",
    "    print(f\"MSE: {result['MSE']}\")\n",
    "    print(f\"RMSE: {result['RMSE']}\")\n",
    "    print(f\"Cross-Validation Scores: {result['Cross-Validation Scores']}\")\n",
    "    print()"
   ]
  },
  {
   "cell_type": "code",
   "execution_count": 102,
   "metadata": {},
   "outputs": [
    {
     "data": {
      "text/plain": [
       "['car_price_predictor.pkl']"
      ]
     },
     "execution_count": 102,
     "metadata": {},
     "output_type": "execute_result"
    }
   ],
   "source": [
    "#the best model is gradient boosting regressor using it for futher use\n",
    "gradient_boosting_regressor = models['Gradient Boosting Regressor']  #\n",
    "joblib.dump(gradient_boosting_regressor, 'car_price_predictor.pkl')\n"
   ]
  },
  {
   "cell_type": "code",
   "execution_count": 106,
   "metadata": {},
   "outputs": [],
   "source": [
    "new_data = pd.DataFrame({\n",
    "    'Present_Price': 5.59,\n",
    "    'Driven_kms': 27000,\n",
    "    'Fuel_Type': 0, #petrol\n",
    "    'Selling_type': 0, #dealer\n",
    "    'Transmission': 0, #manual\n",
    "    'Owner': 0,\n",
    "    'Age': 8\n",
    "}, index=[0])"
   ]
  },
  {
   "cell_type": "code",
   "execution_count": 107,
   "metadata": {},
   "outputs": [
    {
     "name": "stdout",
     "output_type": "stream",
     "text": [
      "<class 'sklearn.ensemble._gb.GradientBoostingRegressor'>\n",
      "\n",
      "Predicted Price on New Data: 3.78572154299673\n"
     ]
    }
   ],
   "source": [
    "loaded_model = joblib.load('car_price_predictor.pkl')\n",
    "print(type(loaded_model))\n",
    "predicted_price = loaded_model.predict(new_data)\n",
    "print(\"\\nPredicted Price on New Data:\", predicted_price[0])"
   ]
  },
  {
   "cell_type": "code",
   "execution_count": null,
   "metadata": {},
   "outputs": [],
   "source": []
  },
  {
   "cell_type": "code",
   "execution_count": null,
   "metadata": {},
   "outputs": [],
   "source": []
  }
 ],
 "metadata": {
  "kernelspec": {
   "display_name": "Python 3",
   "language": "python",
   "name": "python3"
  },
  "language_info": {
   "codemirror_mode": {
    "name": "ipython",
    "version": 3
   },
   "file_extension": ".py",
   "mimetype": "text/x-python",
   "name": "python",
   "nbconvert_exporter": "python",
   "pygments_lexer": "ipython3",
   "version": "3.8.10"
  },
  "orig_nbformat": 4
 },
 "nbformat": 4,
 "nbformat_minor": 2
}
